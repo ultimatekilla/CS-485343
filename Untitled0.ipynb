{
  "nbformat": 4,
  "nbformat_minor": 0,
  "metadata": {
    "colab": {
      "provenance": [],
      "authorship_tag": "ABX9TyMO+ZHcxJbfj7WPT4WgyZry",
      "include_colab_link": true
    },
    "kernelspec": {
      "name": "python3",
      "display_name": "Python 3"
    },
    "language_info": {
      "name": "python"
    }
  },
  "cells": [
    {
      "cell_type": "markdown",
      "metadata": {
        "id": "view-in-github",
        "colab_type": "text"
      },
      "source": [
        "<a href=\"https://colab.research.google.com/github/ultimatekilla/CS-485343/blob/main/Untitled0.ipynb\" target=\"_parent\"><img src=\"https://colab.research.google.com/assets/colab-badge.svg\" alt=\"Open In Colab\"/></a>"
      ]
    },
    {
      "cell_type": "markdown",
      "source": [
        "Клименко Єгор Ігорович ФІТ 3-14 13 варіант; 1.\tВідокремити корені рівняння. Розв’язати рівняння із заданою точністю 0.001\n",
        "Варіант 1. методом половинного ділення і методом хорд. (4 б) [Текст ссылки]\n",
        "\n",
        " 2x^4-8x^3-16x^2-1=0\n",
        "2x^4+4x^3+x^2+3x-6=0"
      ],
      "metadata": {
        "id": "bJjQV5SmFADR"
      }
    },
    {
      "cell_type": "code",
      "execution_count": 6,
      "metadata": {
        "colab": {
          "base_uri": "https://localhost:8080/"
        },
        "id": "O7Xv8arlEAHO",
        "outputId": "044141d2-399f-4fba-a3d2-21c919cae194"
      },
      "outputs": [
        {
          "output_type": "stream",
          "name": "stdout",
          "text": [
            "Рівняння 1:\n",
            "Метод половинного ділення: -1.497\n",
            "Метод хорд: -1.496\n",
            "\n",
            "Рівняння 2:\n",
            "Метод половинного ділення: -1.001\n",
            "Метод хорд: 0.806\n"
          ]
        }
      ],
      "source": [
        "\n",
        "\n",
        "def f1(x):\n",
        "    return 2*x**4 - 8*x**3 - 16*x**2 - 1\n",
        "\n",
        "def f2(x):\n",
        "    return 2*x**4 + 4*x**3 + x**2 + 3*x - 6\n",
        "\n",
        "def bisection_method(f, a, b, tolerance):\n",
        "    while (b - a) / 2 > tolerance:\n",
        "        c = (a + b) / 2\n",
        "        if f(c) == 0:\n",
        "            return c  # Знайдено точний корінь\n",
        "        elif f(c) * f(a) < 0:\n",
        "            b = c\n",
        "        else:\n",
        "            a = c\n",
        "    return (a + b) / 2\n",
        "\n",
        "def chord_method(f, x0, x1, tolerance):\n",
        "    while abs(x1 - x0) > tolerance:\n",
        "        x2 = x1 - f(x1) * (x1 - x0) / (f(x1) - f(x0))\n",
        "        x0, x1 = x1, x2\n",
        "    return x1\n",
        "\n",
        "# Задані параметри\n",
        "tolerance = 0.001\n",
        "\n",
        "# Рівняння 1: 2x^4 - 8x^3 - 16x^2 - 1 = 0\n",
        "root_bisection_1 = bisection_method(f1, -2, -1, tolerance)\n",
        "root_chord_1 = chord_method(f1, -2, -1, tolerance)\n",
        "\n",
        "print(\"Рівняння 1:\")\n",
        "print(f\"Метод половинного ділення: {root_bisection_1:.3f}\")\n",
        "print(f\"Метод хорд: {root_chord_1:.3f}\")\n",
        "print()\n",
        "\n",
        "# Рівняння 2: 2x^4 + 4x^3 + x^2 + 3x - 6 = 0\n",
        "root_bisection_2 = bisection_method(f2, -2, -1, tolerance)\n",
        "root_chord_2 = chord_method(f2, -2, -1, tolerance)\n",
        "\n",
        "print(\"Рівняння 2:\")\n",
        "print(f\"Метод половинного ділення: {root_bisection_2:.3f}\")\n",
        "print(f\"Метод хорд: {root_chord_2:.3f}\")\n"
      ]
    },
    {
      "cell_type": "markdown",
      "source": [
        "2.\tПобудувати інтерполяційний багаточлен Лагранжа   для функції  , що задана таблицею, та з точністю до 0.001 обчислити наближені значення функції у заданих точках. Побудувати графік інтерполяційної функції   за наявним набором точок. Зробити перевірку за допомогою scipy lagrange()  (4б)"
      ],
      "metadata": {
        "id": "qg0LdrKRE8e4"
      }
    },
    {
      "cell_type": "code",
      "source": [
        "import numpy as np\n",
        "import matplotlib.pyplot as plt\n",
        "from scipy.interpolate import lagrange\n",
        "\n",
        "# Дані\n",
        "x_given = np.array([-2, -1, 0, 3])\n",
        "y_given = np.array([-4, 3, 2, 11])\n",
        "\n",
        "# Побудова інтерполяційного багаточлена Лагранжа за допомогою numpy\n",
        "def lagrange_interpolation(x, y, x_interp):\n",
        "    result = 0\n",
        "    for i in range(len(y)):\n",
        "        term = y[i]\n",
        "        for j in range(len(x)):\n",
        "            if j != i:\n",
        "                term *= (x_interp - x[j]) / (x[i] - x[j])\n",
        "        result += term\n",
        "    return result\n",
        "\n",
        "# Побудова інтерполяційного багаточлена Лагранжа за допомогою scipy\n",
        "poly = lagrange(x_given, y_given)\n",
        "\n",
        "# Задані точки для обчислення\n",
        "x_interp = np.array([-1.5, -0.5, 1, 2])\n",
        "\n",
        "# Обчислення значень функції в заданих точках\n",
        "y_interp_custom = lagrange_interpolation(x_given, y_given, x_interp)\n",
        "y_interp_scipy = poly(x_interp)\n",
        "\n",
        "# Графік інтерполяційної функції\n",
        "x_range = np.linspace(min(x_given), max(x_given), 1000)\n",
        "y_range_custom = lagrange_interpolation(x_given, y_given, x_range)\n",
        "y_range_scipy = poly(x_range)\n",
        "\n",
        "plt.plot(x_range, y_range_custom, label='Interpolation (Custom)')\n",
        "plt.plot(x_range, y_range_scipy, label='Interpolation (Scipy)')\n",
        "plt.scatter(x_given, y_given, color='red', label='Given Points')\n",
        "plt.scatter(x_interp, y_interp_custom, color='blue', label='Interpolated Points (Custom)')\n",
        "plt.scatter(x_interp, y_interp_scipy, color='green', label='Interpolated Points (Scipy)')\n",
        "\n",
        "plt.title('Interpolation using Lagrange Polynomial')\n",
        "plt.xlabel('x')\n",
        "plt.ylabel('y')\n",
        "plt.legend()\n",
        "plt.grid(True)\n",
        "plt.show()\n",
        "\n",
        "# Виведемо обчислені значення функції\n",
        "print(\"Значення функції в заданих точках (Custom):\")\n",
        "for i in range(len(x_interp)):\n",
        "    print(f\"f({x_interp[i]}) = {y_interp_custom[i]:.3f}\")\n",
        "\n",
        "print(\"\\nЗначення функції в заданих точках (Scipy):\")\n",
        "for i in range(len(x_interp)):\n",
        "    print(f\"f({x_interp[i]}) = {y_interp_scipy[i]:.3f}\")\n"
      ],
      "metadata": {
        "id": "2Td2dFlME-A7"
      },
      "execution_count": null,
      "outputs": []
    },
    {
      "cell_type": "markdown",
      "source": [
        "3.\tПобудувати апроксимуючу функцію у вигляді кубічного сплайну для таблично заданої функції та перевірити її роботу. Побудувати графік сплайну. (4б)"
      ],
      "metadata": {
        "id": "MzQLuuXBFSBB"
      }
    },
    {
      "cell_type": "code",
      "source": [
        "import numpy as np\n",
        "import matplotlib.pyplot as plt\n",
        "from scipy.interpolate import CubicSpline\n",
        "\n",
        "# Дані\n",
        "x_values = np.array([0, 1, 2, 3, 4])\n",
        "y_values = np.array([0.1, 0.3, 0.6, 1.1, 1.8])\n",
        "\n",
        "# Побудова кубічного сплайну\n",
        "cubic_spline = CubicSpline(x_values, y_values)\n",
        "\n",
        "# Задані точки для перевірки\n",
        "x_check = np.linspace(min(x_values), max(x_values), 1000)\n",
        "y_check = cubic_spline(x_check)\n",
        "\n",
        "# Графік кубічного сплайну\n",
        "plt.plot(x_check, y_check, label='Cubic Spline')\n",
        "plt.scatter(x_values, y_values, color='red', label='Given Points')\n",
        "\n",
        "plt.title('Cubic Spline Interpolation')\n",
        "plt.xlabel('x')\n",
        "plt.ylabel('y')\n",
        "plt.legend()\n",
        "plt.grid(True)\n",
        "plt.show()\n"
      ],
      "metadata": {
        "id": "LYHRPSHyFVrv"
      },
      "execution_count": null,
      "outputs": []
    },
    {
      "cell_type": "markdown",
      "source": [
        "\tНехай задана функція y=f(x). Побудувати на  проміжку x∈[0.1;1]   з кроком h=0.1  наближення прямою та параболою методом найменших квадратів для заданої функції. Побудувати графік функції та графіки наближень. Використовувати метод  least_squares ()   (4б)"
      ],
      "metadata": {
        "id": "vktcVFfYFofn"
      }
    },
    {
      "cell_type": "code",
      "source": [
        "import numpy as np\n",
        "import matplotlib.pyplot as plt\n",
        "from scipy.optimize import least_squares\n",
        "\n",
        "# Задана функція\n",
        "def true_function(x):\n",
        "    return np.cos(2*x) + 2*x\n",
        "\n",
        "# Параметри\n",
        "a, b = 0.1, 1\n",
        "h = 0.1\n",
        "x_values = np.arange(a, b+h, h)\n",
        "y_values = true_function(x_values)\n",
        "\n",
        "# Добавимо шум до значень функції для створення \"спостережень\"\n",
        "np.random.seed(42)\n",
        "noise = np.random.normal(0, 0.2, len(y_values))\n",
        "y_values_with_noise = y_values + noise\n",
        "\n",
        "# Функція для побудови наближення прямою та параболою методом найменших квадратів\n",
        "def model(params, x):\n",
        "    a, b, c = params\n",
        "    return a*x + b + c*x**2\n",
        "\n",
        "# Початні значення параметрів\n",
        "initial_params = [1, 1, 1]\n",
        "\n",
        "# Оптимізація параметрів\n",
        "result = least_squares(lambda params: model(params, x_values) - y_values_with_noise, initial_params)\n",
        "\n",
        "# Отримані параметри\n",
        "optimized_params = result.x\n",
        "\n",
        "# Обчислення значень для наближення\n",
        "y_linear_fit = model(optimized_params[:2], x_values)\n",
        "y_quadratic_fit = model(optimized_params, x_values)\n",
        "\n",
        "# Графіки\n",
        "plt.plot(x_values, y_values, label='True Function')\n",
        "plt.scatter(x_values, y_values_with_noise, label='Observations with Noise')\n",
        "plt.plot(x_values, y_linear_fit, label='Linear Fit')\n",
        "plt.plot(x_values, y_quadratic_fit, label='Quadratic Fit')\n",
        "\n",
        "plt.title('Least Squares Fit')\n",
        "plt.xlabel('x')\n",
        "plt.ylabel('y')\n",
        "plt.legend()\n",
        "plt.grid(True)\n",
        "plt.show()\n"
      ],
      "metadata": {
        "id": "imLbsPapFsPK"
      },
      "execution_count": null,
      "outputs": []
    },
    {
      "cell_type": "markdown",
      "source": [
        "5.\tЗ точністю до 0.0001 обчислити значення визначених інтегралів:\n",
        "1) методом прямокутників за умови п=10;\n",
        "2) методом Сімпсона за умови п=8;\n",
        "3) методом трапецій за умови п=20;  (4б)\n"
      ],
      "metadata": {
        "id": "qaxVHdUoF7Xa"
      }
    },
    {
      "cell_type": "code",
      "source": [
        "import numpy as np\n",
        "from scipy.integrate import quad\n",
        "\n",
        "# Задані функції для інтегрування\n",
        "def func1(x):\n",
        "    return 1.4 / np.sqrt(2*x + 3)\n",
        "\n",
        "def func2(x):\n",
        "    return 1.2 * np.sqrt(x) * np.cos(x**2)\n",
        "\n",
        "def func3(x):\n",
        "    return 2.1 / np.sqrt(3*x**2 - 0.4)\n",
        "\n",
        "# Обчислення інтегралів за допомогою quad\n",
        "result1, error1 = quad(func1, 0, 8, points=np.linspace(0, 8, 10))\n",
        "result2, error2 = quad(func2, 0, 4)\n",
        "result3, error3 = quad(func3, 1, 3)\n",
        "\n",
        "print(f\"Метод прямокутників (p=10): {result1:.4f}\")\n",
        "print(f\"Метод Сімпсона (p=8): {result2:.4f}\")\n",
        "print(f\"Метод трапецій (p=20): {result3:.4f}\")\n"
      ],
      "metadata": {
        "id": "sivXdwhNF-oR"
      },
      "execution_count": null,
      "outputs": []
    }
  ]
}